{
 "cells": [
  {
   "cell_type": "markdown",
   "metadata": {},
   "source": [
    "# basic"
   ]
  },
  {
   "cell_type": "code",
   "execution_count": 1,
   "metadata": {},
   "outputs": [],
   "source": [
    "import torch \n",
    "import matplotlib.pyplot as plt\n",
    "import numpy as np \n",
    "import pandas as pd"
   ]
  },
  {
   "cell_type": "markdown",
   "metadata": {},
   "source": [
    "### scalar"
   ]
  },
  {
   "cell_type": "code",
   "execution_count": 2,
   "metadata": {},
   "outputs": [
    {
     "name": "stdout",
     "output_type": "stream",
     "text": [
      "tensor(1)\n",
      "torch.Size([])\n",
      "0\n"
     ]
    }
   ],
   "source": [
    "scalar = torch.tensor(1)\n",
    "print(scalar)\n",
    "print(scalar.shape)\n",
    "print(scalar.ndim)"
   ]
  },
  {
   "cell_type": "markdown",
   "metadata": {},
   "source": [
    "### vector"
   ]
  },
  {
   "cell_type": "code",
   "execution_count": 3,
   "metadata": {},
   "outputs": [
    {
     "name": "stdout",
     "output_type": "stream",
     "text": [
      "tensor([1, 1])\n",
      "torch.Size([2])\n",
      "1\n"
     ]
    }
   ],
   "source": [
    "vector = torch.tensor([1,1])\n",
    "print(vector)\n",
    "print(vector.shape)\n",
    "print(vector.ndim)"
   ]
  },
  {
   "cell_type": "markdown",
   "metadata": {},
   "source": [
    "### matrix"
   ]
  },
  {
   "cell_type": "code",
   "execution_count": 4,
   "metadata": {},
   "outputs": [
    {
     "name": "stdout",
     "output_type": "stream",
     "text": [
      "tensor([[1, 1, 1],\n",
      "        [1, 1, 1]])\n",
      "torch.Size([2, 3])\n",
      "2\n"
     ]
    }
   ],
   "source": [
    "matrix = torch.tensor([[1, 1, 1],\n",
    "                      [1, 1, 1]])\n",
    "print(matrix)\n",
    "print(matrix.shape)\n",
    "print(matrix.ndim)"
   ]
  },
  {
   "cell_type": "markdown",
   "metadata": {},
   "source": [
    "### tensor"
   ]
  },
  {
   "cell_type": "code",
   "execution_count": 5,
   "metadata": {},
   "outputs": [
    {
     "name": "stdout",
     "output_type": "stream",
     "text": [
      "tensor([[[1, 1],\n",
      "         [1, 1]],\n",
      "\n",
      "        [[1, 1],\n",
      "         [1, 1]]])\n",
      "torch.Size([2, 2, 2])\n",
      "3\n"
     ]
    }
   ],
   "source": [
    "tensor = torch.tensor([[[1, 1],\n",
    "                        [1, 1]],\n",
    "                       \n",
    "                       [[1, 1],\n",
    "                        [1, 1]]])\n",
    "print(tensor)\n",
    "print(tensor.shape)\n",
    "print(tensor.ndim)"
   ]
  },
  {
   "cell_type": "markdown",
   "metadata": {},
   "source": [
    "### random tensors"
   ]
  },
  {
   "cell_type": "code",
   "execution_count": 6,
   "metadata": {},
   "outputs": [
    {
     "name": "stdout",
     "output_type": "stream",
     "text": [
      "tensor([[0.9719, 0.4043],\n",
      "        [0.9685, 0.3354],\n",
      "        [0.5648, 0.5018]])\n",
      "tensor([[0.4281, 0.2597],\n",
      "        [0.8211, 0.3591],\n",
      "        [0.3676, 0.0994]])\n"
     ]
    }
   ],
   "source": [
    "random_tensor = torch.rand(3, 2)\n",
    "print(random_tensor)\n",
    "random_tensor = torch.rand(size=(3, 2))\n",
    "print(random_tensor)"
   ]
  },
  {
   "cell_type": "markdown",
   "metadata": {},
   "source": [
    "### zero and one tensor"
   ]
  },
  {
   "cell_type": "code",
   "execution_count": 7,
   "metadata": {},
   "outputs": [
    {
     "name": "stdout",
     "output_type": "stream",
     "text": [
      "tensor([[0., 0.],\n",
      "        [0., 0.],\n",
      "        [0., 0.]])\n",
      "tensor([[1., 1.],\n",
      "        [1., 1.],\n",
      "        [1., 1.]])\n",
      "tensor([[0.4281, 0.2597],\n",
      "        [0.8211, 0.3591],\n",
      "        [0.3676, 0.0994]])\n",
      "torch.float32\n"
     ]
    }
   ],
   "source": [
    "zero = torch.zeros(3, 2)\n",
    "print(zero)\n",
    "one = torch.ones(3, 2)\n",
    "print(one)\n",
    "print(one * random_tensor)\n",
    "print(one.dtype)"
   ]
  },
  {
   "cell_type": "code",
   "execution_count": 8,
   "metadata": {},
   "outputs": [
    {
     "name": "stdout",
     "output_type": "stream",
     "text": [
      "tensor([ 0,  2,  4,  6,  8, 10, 12, 14, 16, 18, 20, 22])\n",
      "tensor([[[ 0,  2,  4],\n",
      "         [ 6,  8, 10]],\n",
      "\n",
      "        [[12, 14, 16],\n",
      "         [18, 20, 22]]])\n",
      "tensor([[ 0,  2,  4],\n",
      "        [ 6,  8, 10],\n",
      "        [12, 14, 16],\n",
      "        [18, 20, 22]])\n"
     ]
    }
   ],
   "source": [
    "tensor = torch.arange(0, 24, 2)\n",
    "print(tensor)\n",
    "print(tensor.reshape(2, 2, 3))\n",
    "print(tensor.reshape(4, 3))"
   ]
  },
  {
   "cell_type": "code",
   "execution_count": 9,
   "metadata": {},
   "outputs": [
    {
     "name": "stdout",
     "output_type": "stream",
     "text": [
      "torch.Size([4, 3])\n",
      "tensor([[0, 0, 0],\n",
      "        [0, 0, 0],\n",
      "        [0, 0, 0],\n",
      "        [0, 0, 0]])\n",
      "tensor([[0.5724, 0.2604, 0.5415],\n",
      "        [0.8294, 0.1716, 0.9577],\n",
      "        [0.1944, 0.1948, 0.6674],\n",
      "        [0.5423, 0.9265, 0.8420]])\n",
      "tensor([[1, 1, 1],\n",
      "        [1, 1, 1],\n",
      "        [1, 1, 1],\n",
      "        [1, 1, 1]])\n"
     ]
    }
   ],
   "source": [
    "# createing tensor with shape like another tensor\n",
    "tensor = tensor.reshape(4, 3)\n",
    "print(tensor.shape)\n",
    "print(torch.zeros_like(input=tensor))\n",
    "print(torch.rand_like(input=tensor.float())) # here we have to convert data do float numbers\n",
    "print(torch.ones_like(input=tensor))"
   ]
  },
  {
   "cell_type": "markdown",
   "metadata": {},
   "source": [
    "### datatypes"
   ]
  },
  {
   "cell_type": "code",
   "execution_count": 10,
   "metadata": {},
   "outputs": [
    {
     "name": "stdout",
     "output_type": "stream",
     "text": [
      "tensor([0.2000, 0.6000, 5.3000])\n",
      "tensor([0.2000, 0.6001, 5.3008], dtype=torch.float16)\n",
      "tensor([0.2000, 0.6000, 5.3000], device='cuda:0')\n",
      "tensor([ 0.0400,  0.3601, 28.0941])\n"
     ]
    }
   ],
   "source": [
    "float32_tensor = torch.tensor([0.2, 0.6, 5.3])\n",
    "print(float32_tensor)\n",
    "float16_tensor = torch.tensor([0.2, 0.6, 5.3], dtype=torch.float16)\n",
    "print(float16_tensor)\n",
    "tensor = torch.tensor([0.2, 0.6, 5.3],\n",
    "                      dtype = None, #default float32\n",
    "                      device = \"cuda\", #default cpu\n",
    "                      requires_grad=False) # track or not gradients\n",
    "print(tensor)\n",
    "print(float16_tensor * float32_tensor)\n",
    "                      "
   ]
  },
  {
   "cell_type": "markdown",
   "metadata": {},
   "source": [
    "### manipulationg tensors"
   ]
  },
  {
   "cell_type": "code",
   "execution_count": 11,
   "metadata": {},
   "outputs": [
    {
     "name": "stdout",
     "output_type": "stream",
     "text": [
      "tensor([[0.6458, 0.6033],\n",
      "        [0.5987, 0.3069]])\n",
      "tensor([[1., 0.],\n",
      "        [0., 1.]])\n",
      "\n",
      "tensor([[1.6458, 0.6033],\n",
      "        [0.5987, 1.3069]])\n",
      "\n",
      "tensor([[-0.3542,  0.6033],\n",
      "        [ 0.5987, -0.6931]])\n",
      "\n",
      "tensor([[0.6458, 0.0000],\n",
      "        [0.0000, 0.3069]])\n",
      "\n",
      "tensor([[0.6458, 0.6033],\n",
      "        [0.5987, 0.3069]])\n"
     ]
    }
   ],
   "source": [
    "Mat1, Mat2 = torch.rand(2, 2), torch.eye(2, 2)\n",
    "print(Mat1)\n",
    "print(Mat2)\n",
    "print()\n",
    "print(Mat1 + Mat2)\n",
    "print()\n",
    "print(Mat1 - Mat2)\n",
    "print()\n",
    "print(Mat1 * Mat2)\n",
    "print()\n",
    "print(Mat1 @ Mat2)"
   ]
  },
  {
   "cell_type": "code",
   "execution_count": 12,
   "metadata": {},
   "outputs": [
    {
     "name": "stdout",
     "output_type": "stream",
     "text": [
      "tensor(0.7808)\n",
      "tensor([[0.5609, 1.2170, 0.7923]])\n",
      "tensor([[0.4127]])\n",
      "torch.Size([1, 1])\n"
     ]
    }
   ],
   "source": [
    "Mat1 = torch.rand(3)\n",
    "Mat2 = torch.rand(3)\n",
    "print(Mat1 @ Mat2) # for vectors it works because it performes dot product \n",
    "Mat1 = torch.rand(1, 2)\n",
    "Mat2 = torch.rand(2, 3)\n",
    "print(Mat1 @ Mat2)\n",
    "Mat1 = torch.rand(1, 3)\n",
    "Mat2 = torch.rand(3, 1)\n",
    "print(Mat1 @ Mat2)\n",
    "print((Mat1 @ Mat2).shape)"
   ]
  },
  {
   "cell_type": "markdown",
   "metadata": {},
   "source": [
    "### tensor aggregation"
   ]
  },
  {
   "cell_type": "code",
   "execution_count": 13,
   "metadata": {},
   "outputs": [
    {
     "name": "stdout",
     "output_type": "stream",
     "text": [
      "tensor(0.0009)\n",
      "tensor(0.9999)\n",
      "tensor(0.4870)\n",
      "tensor(194.8022)\n",
      "\n",
      "tensor(38)\n",
      "(tensor(1), tensor(18))\n",
      "tensor(10)\n",
      "(tensor(0), tensor(10))\n"
     ]
    },
    {
     "data": {
      "text/plain": [
       "(tensor(0.8004), tensor(0.8004))"
      ]
     },
     "execution_count": 13,
     "metadata": {},
     "output_type": "execute_result"
    }
   ],
   "source": [
    "tensor = torch.rand(20, 20)\n",
    "print(tensor.min())\n",
    "print(tensor.max())\n",
    "print(tensor.mean())\n",
    "print(tensor.sum())\n",
    "print()\n",
    "print(tensor.argmax())\n",
    "print(torch.unravel_index(tensor.argmax(), tensor.shape))\n",
    "print(tensor.argmin())\n",
    "print(torch.unravel_index(tensor.argmin(), tensor.shape))\n",
    "tensor[torch.unravel_index(tensor.argmin(), tensor.shape)]\n",
    "tensor[(6, 11)], tensor[6][11]\n"
   ]
  },
  {
   "cell_type": "markdown",
   "metadata": {},
   "source": [
    "### reshaping, stacking, squeezing, unsqueezing"
   ]
  },
  {
   "cell_type": "code",
   "execution_count": 14,
   "metadata": {},
   "outputs": [
    {
     "name": "stdout",
     "output_type": "stream",
     "text": [
      "tensor([ 1,  2,  3,  4,  5,  6,  7,  8,  9, 10]) torch.Size([10])\n",
      "tensor([[ 1,  2,  3,  4,  5],\n",
      "        [ 6,  7,  8,  9, 10]]) torch.Size([2, 5])\n",
      "\n",
      "tensor([[ 1,  2,  3,  4,  5,  6,  7,  8,  9, 10],\n",
      "        [ 1,  2,  3,  4,  5,  6,  7,  8,  9, 10],\n",
      "        [ 1,  2,  3,  4,  5,  6,  7,  8,  9, 10],\n",
      "        [ 1,  2,  3,  4,  5,  6,  7,  8,  9, 10]])\n",
      "tensor([[ 1,  1,  1,  1],\n",
      "        [ 2,  2,  2,  2],\n",
      "        [ 3,  3,  3,  3],\n",
      "        [ 4,  4,  4,  4],\n",
      "        [ 5,  5,  5,  5],\n",
      "        [ 6,  6,  6,  6],\n",
      "        [ 7,  7,  7,  7],\n",
      "        [ 8,  8,  8,  8],\n",
      "        [ 9,  9,  9,  9],\n",
      "        [10, 10, 10, 10]])\n",
      "\n",
      "torch.Size([1, 10]) torch.Size([10, 1])\n",
      "tensor([[385]])\n",
      "torch.Size([1, 1])\n",
      "tensor(385)\n",
      "torch.Size([])\n"
     ]
    }
   ],
   "source": [
    "x = torch.arange(1, 11)\n",
    "print(x, x.shape)\n",
    "print(x.reshape(2, 5), x.reshape(2, 5).shape)\n",
    "print()\n",
    "\n",
    "print(torch.stack([x, x, x, x]))\n",
    "print(torch.stack([x, x, x, x], dim=1))\n",
    "print()\n",
    "\n",
    "y = torch.arange(1, 11)\n",
    "y = y.reshape(10, 1)\n",
    "x = x.unsqueeze(dim=0)\n",
    "print(x.shape, y.shape)\n",
    "print(x @ y)\n",
    "print((x @ y).shape)\n",
    "print((x @ y).squeeze())\n",
    "print((x @ y).squeeze().shape)"
   ]
  },
  {
   "cell_type": "code",
   "execution_count": 15,
   "metadata": {},
   "outputs": [
    {
     "name": "stdout",
     "output_type": "stream",
     "text": [
      "tensor([[[0.0700, 0.6815, 0.5066, 0.3229],\n",
      "         [0.6302, 0.1066, 0.2030, 0.0174],\n",
      "         [0.5114, 0.7140, 0.2446, 0.0842]],\n",
      "\n",
      "        [[0.9159, 0.3338, 0.2484, 0.8854],\n",
      "         [0.9144, 0.8635, 0.0762, 0.9263],\n",
      "         [0.5593, 0.7703, 0.7516, 0.3442]]]) torch.Size([2, 3, 4]) \n",
      "\n",
      "tensor([[[0.0700, 0.9159],\n",
      "         [0.6302, 0.9144],\n",
      "         [0.5114, 0.5593]],\n",
      "\n",
      "        [[0.6815, 0.3338],\n",
      "         [0.1066, 0.8635],\n",
      "         [0.7140, 0.7703]],\n",
      "\n",
      "        [[0.5066, 0.2484],\n",
      "         [0.2030, 0.0762],\n",
      "         [0.2446, 0.7516]],\n",
      "\n",
      "        [[0.3229, 0.8854],\n",
      "         [0.0174, 0.9263],\n",
      "         [0.0842, 0.3442]]]) torch.Size([4, 3, 2]) \n",
      "\n",
      "tensor([[[0.0700, 0.6815, 0.5066, 0.3229],\n",
      "         [0.9159, 0.3338, 0.2484, 0.8854]],\n",
      "\n",
      "        [[0.6302, 0.1066, 0.2030, 0.0174],\n",
      "         [0.9144, 0.8635, 0.0762, 0.9263]],\n",
      "\n",
      "        [[0.5114, 0.7140, 0.2446, 0.0842],\n",
      "         [0.5593, 0.7703, 0.7516, 0.3442]]]) torch.Size([3, 2, 4]) \n",
      "\n"
     ]
    }
   ],
   "source": [
    "x = torch.rand(2, 3, 4)\n",
    "print(x, x.shape, '\\n')\n",
    "\n",
    "y = x.permute(2, 1, 0)\n",
    "print(y, y.shape, '\\n')\n",
    "\n",
    "z = x.permute(1, 0, 2)\n",
    "print(z, z.shape, '\\n')\n"
   ]
  },
  {
   "cell_type": "markdown",
   "metadata": {},
   "source": [
    "### indexing"
   ]
  },
  {
   "cell_type": "code",
   "execution_count": 34,
   "metadata": {},
   "outputs": [
    {
     "name": "stdout",
     "output_type": "stream",
     "text": [
      "tensor([[[1, 2, 3],\n",
      "         [4, 5, 6],\n",
      "         [7, 8, 9]]])\n",
      "\n",
      "tensor([1, 2, 3])\n",
      "tensor([4, 5, 6])\n",
      "tensor([[1, 2, 3]])\n",
      "tensor([1, 4, 7])\n",
      "tensor([4, 7])\n",
      "tensor([[1]])\n"
     ]
    }
   ],
   "source": [
    "x = torch.arange(1, 10).reshape(1, 3, 3)\n",
    "print(x)\n",
    "print()\n",
    "print(x[0][0])\n",
    "print(x[0, 1])\n",
    "print(x[:, 0])\n",
    "print(x[0, :, 0])\n",
    "print(x[0, 1:, 0])\n",
    "print(x[:, 0:1, 0])"
   ]
  },
  {
   "cell_type": "markdown",
   "metadata": {},
   "source": [
    "### numpy"
   ]
  },
  {
   "cell_type": "code",
   "execution_count": 37,
   "metadata": {},
   "outputs": [
    {
     "name": "stdout",
     "output_type": "stream",
     "text": [
      "[1. 2. 3. 4. 5. 6. 7.]\n",
      "tensor([1., 2., 3., 4., 5., 6., 7.], dtype=torch.float64)\n"
     ]
    },
    {
     "data": {
      "text/plain": [
       "dtype('float64')"
      ]
     },
     "execution_count": 37,
     "metadata": {},
     "output_type": "execute_result"
    }
   ],
   "source": [
    "array = np.arange(1.0, 8.0)\n",
    "print(array)\n",
    "tensor = torch.from_numpy(array)\n",
    "print(tensor)\n",
    "array.dtype"
   ]
  },
  {
   "cell_type": "code",
   "execution_count": 38,
   "metadata": {},
   "outputs": [
    {
     "name": "stdout",
     "output_type": "stream",
     "text": [
      "tensor([1., 2., 3., 4., 5., 6., 7.], dtype=torch.float64)\n",
      "tensor([2., 3., 4., 5., 6., 7., 8.], dtype=torch.float64)\n"
     ]
    }
   ],
   "source": [
    "print(tensor)\n",
    "array += 1\n",
    "print(tensor)"
   ]
  },
  {
   "cell_type": "code",
   "execution_count": 42,
   "metadata": {},
   "outputs": [
    {
     "name": "stdout",
     "output_type": "stream",
     "text": [
      "tensor([1., 1., 1., 1., 1., 1., 1.]) [1. 1. 1. 1. 1. 1. 1.]\n",
      "tensor([2., 2., 2., 2., 2., 2., 2.]) [2. 2. 2. 2. 2. 2. 2.]\n",
      "False\n"
     ]
    }
   ],
   "source": [
    "tensor = torch.ones(7)\n",
    "array = tensor.numpy()\n",
    "print(tensor, array)\n",
    "tensor += 1\n",
    "print(tensor, array)\n",
    "print(id(tensor) == id(array))\n"
   ]
  },
  {
   "cell_type": "markdown",
   "metadata": {},
   "source": [
    "### reproducibility"
   ]
  },
  {
   "cell_type": "code",
   "execution_count": 47,
   "metadata": {},
   "outputs": [
    {
     "name": "stdout",
     "output_type": "stream",
     "text": [
      "tensor([[0.1053, 0.2695, 0.3588, 0.1994],\n",
      "        [0.5472, 0.0062, 0.9516, 0.0753],\n",
      "        [0.8860, 0.5832, 0.3376, 0.8090]])\n",
      "tensor([[0.5779, 0.9040, 0.5547, 0.3423],\n",
      "        [0.6343, 0.3644, 0.7104, 0.9464],\n",
      "        [0.7890, 0.2814, 0.7886, 0.5895]])\n",
      "tensor([[False, False, False, False],\n",
      "        [False, False, False, False],\n",
      "        [False, False, False, False]])\n",
      "\n",
      "tensor([[0.8823, 0.9150, 0.3829, 0.9593],\n",
      "        [0.3904, 0.6009, 0.2566, 0.7936],\n",
      "        [0.9408, 0.1332, 0.9346, 0.5936]])\n",
      "tensor([[0.8823, 0.9150, 0.3829, 0.9593],\n",
      "        [0.3904, 0.6009, 0.2566, 0.7936],\n",
      "        [0.9408, 0.1332, 0.9346, 0.5936]])\n",
      "tensor([[True, True, True, True],\n",
      "        [True, True, True, True],\n",
      "        [True, True, True, True]])\n"
     ]
    }
   ],
   "source": [
    "x = torch.rand(3, 4)\n",
    "y = torch.rand(3, 4)\n",
    "print(x)\n",
    "print(y)\n",
    "print(x == y)\n",
    "print()\n",
    "\n",
    "RANDOM_SEED = 42\n",
    "torch.manual_seed(RANDOM_SEED)\n",
    "x = torch.rand(3, 4)\n",
    "torch.manual_seed(RANDOM_SEED)\n",
    "y = torch.rand(3, 4)\n",
    "print(x)\n",
    "print(y)\n",
    "print(x == y)\n"
   ]
  },
  {
   "cell_type": "markdown",
   "metadata": {},
   "source": [
    "## CUDA"
   ]
  },
  {
   "cell_type": "code",
   "execution_count": 51,
   "metadata": {},
   "outputs": [
    {
     "data": {
      "text/plain": [
       "'cuda'"
      ]
     },
     "execution_count": 51,
     "metadata": {},
     "output_type": "execute_result"
    }
   ],
   "source": [
    "device = \"cuda\" if torch.cuda.is_available() else \"cpu\"\n",
    "device #ezz"
   ]
  },
  {
   "cell_type": "code",
   "execution_count": 55,
   "metadata": {},
   "outputs": [
    {
     "name": "stdout",
     "output_type": "stream",
     "text": [
      "tensor([0, 1, 2, 3, 4, 5, 6, 7, 8, 9], device='cuda:0')\n",
      "tensor([0, 1, 2, 3, 4, 5, 6, 7, 8, 9])\n",
      "tensor([0, 1, 2, 3, 4, 5, 6, 7, 8, 9], device='cuda:0')\n"
     ]
    }
   ],
   "source": [
    "tensor = torch.arange(0, 10, device=device)\n",
    "print(tensor)\n",
    "tensor = torch.arange(0, 10)\n",
    "print(tensor)\n",
    "tensor = tensor.to(device)\n",
    "print(tensor)\n"
   ]
  },
  {
   "cell_type": "code",
   "execution_count": 60,
   "metadata": {},
   "outputs": [
    {
     "name": "stdout",
     "output_type": "stream",
     "text": [
      "[0 1 2 3 4 5 6 7 8 9]\n",
      "[0 1 2 3 4 5 6 7 8 9]\n"
     ]
    }
   ],
   "source": [
    "# tensor.numpy() error numpy works on cpu\n",
    "array = tensor.to('cpu').numpy()\n",
    "print(array)\n",
    "array = tensor.cpu().numpy() #also works\n",
    "print(array)"
   ]
  }
 ],
 "metadata": {
  "kernelspec": {
   "display_name": "pytorch",
   "language": "python",
   "name": "python3"
  },
  "language_info": {
   "codemirror_mode": {
    "name": "ipython",
    "version": 3
   },
   "file_extension": ".py",
   "mimetype": "text/x-python",
   "name": "python",
   "nbconvert_exporter": "python",
   "pygments_lexer": "ipython3",
   "version": "3.10.14"
  }
 },
 "nbformat": 4,
 "nbformat_minor": 2
}
